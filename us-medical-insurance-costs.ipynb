{
 "cells": [
  {
   "cell_type": "markdown",
   "metadata": {},
   "source": [
    "# U.S. Medical Insurance Costs"
   ]
  },
  {
   "cell_type": "code",
   "execution_count": 502,
   "metadata": {},
   "outputs": [],
   "source": [
    "import csv\n",
    "with open('insurance.csv') as insurance_file:\n",
    "    insurance_data = csv.DictReader(insurance_file)\n",
    "    ages = []\n",
    "    sexes = []\n",
    "    bmis = []\n",
    "    children = []\n",
    "    smoker = []\n",
    "    regions = []\n",
    "    charges = []\n",
    "    for column in insurance_data:\n",
    "        ages.append(column['age'])\n",
    "        sexes.append(column['sex'])\n",
    "        bmis.append(column['bmi'])\n",
    "        children.append(column['children'])\n",
    "        smoker.append(column['smoker'])\n",
    "        regions.append(column['region'])\n",
    "        charges.append(column['charges'])"
   ]
  },
  {
   "cell_type": "code",
   "execution_count": 503,
   "metadata": {},
   "outputs": [],
   "source": [
    "#average value calculator function\n",
    "def average_calculator(list):\n",
    "    sum = 0\n",
    "    for item in list:\n",
    "        sum += float(item)\n",
    "    average = round((sum / len(list)), 1)\n",
    "    return average"
   ]
  },
  {
   "cell_type": "code",
   "execution_count": 504,
   "metadata": {},
   "outputs": [],
   "source": [
    "#min and max value calculator functions\n",
    "def min_calculator(list):\n",
    "    min = float('inf')\n",
    "    for item in list:\n",
    "        if float(item) < min:\n",
    "            min = float(item)\n",
    "    return min\n",
    "\n",
    "def max_calculator(list):\n",
    "    max = float('-inf')\n",
    "    for item in list:\n",
    "        if float(item) > max:\n",
    "            max = float(item)\n",
    "    return max"
   ]
  },
  {
   "cell_type": "code",
   "execution_count": 505,
   "metadata": {},
   "outputs": [],
   "source": [
    "#average for two variables function (e.g. average age of women/men)\n",
    "def average_two_variables(list1, list2, x):\n",
    "    list1_and_list2 = list(zip(list1, list2))\n",
    "    x_info = []\n",
    "    for item in list1_and_list2:\n",
    "        if item[0] == x:\n",
    "            x_info.append(item[1])\n",
    "    average_for_x = average_calculator(x_info)\n",
    "    return average_for_x"
   ]
  },
  {
   "cell_type": "code",
   "execution_count": 506,
   "metadata": {},
   "outputs": [],
   "source": [
    "#value count function\n",
    "def value_count_func(list):\n",
    "    list_dict = {}\n",
    "    for item in list:\n",
    "        if item not in list_dict:\n",
    "            list_dict[item] = 1\n",
    "        elif item in list_dict:\n",
    "            list_dict[item] += 1\n",
    "    return list_dict"
   ]
  },
  {
   "cell_type": "code",
   "execution_count": 507,
   "metadata": {},
   "outputs": [],
   "source": [
    "#two variables count (e.g. female/male smokers)\n",
    "def two_variables_count(list1, list2, x, y):\n",
    "    list1_and_list2 = list(zip(list1, list2))\n",
    "    x_and_y_count = 0\n",
    "    for item in list1_and_list2:\n",
    "        if item[0] == x and item[1] == y:\n",
    "            x_and_y_count += 1\n",
    "    return x_and_y_count"
   ]
  },
  {
   "cell_type": "code",
   "execution_count": 508,
   "metadata": {},
   "outputs": [],
   "source": [
    "#percent calculator function\n",
    "def percentage(list, value):\n",
    "    total_count = len(list)\n",
    "    value_count = value_count_func(list)[value]\n",
    "    percent = round((value_count / total_count * 100), 2)\n",
    "    return percent"
   ]
  },
  {
   "cell_type": "code",
   "execution_count": 509,
   "metadata": {},
   "outputs": [
    {
     "name": "stdout",
     "output_type": "stream",
     "text": [
      "The average age of the patients in the records is 39.2.\n",
      "The average age of women in the records is 39.5.\n",
      "The average age of men in the records is 38.9.\n",
      "The youngest age in the records is 18.\n",
      "The oldest age in the records is 64.\n"
     ]
    }
   ],
   "source": [
    "#AGE\n",
    "\n",
    "#average age\n",
    "average_age = average_calculator(ages)\n",
    "\n",
    "print(\"The average age of the patients in the records is \" + str(average_age) + \".\")\n",
    "\n",
    "#average age for women and men\n",
    "average_age_women = average_two_variables(sexes, ages, \"female\")\n",
    "average_age_men = average_two_variables(sexes, ages, \"male\")\n",
    "\n",
    "print(\"The average age of women in the records is \" + str(average_age_women) + \".\")\n",
    "print(\"The average age of men in the records is \" + str(average_age_men) + \".\")\n",
    "\n",
    "#oldest and youngest age in the records\n",
    "youngest_age = int(min_calculator(ages))\n",
    "oldest_age = int(max_calculator(ages))\n",
    "\n",
    "print(\"The youngest age in the records is \" + str(youngest_age) + \".\")\n",
    "print(\"The oldest age in the records is \" + str(oldest_age) + \".\")"
   ]
  },
  {
   "cell_type": "code",
   "execution_count": 510,
   "metadata": {},
   "outputs": [
    {
     "name": "stdout",
     "output_type": "stream",
     "text": [
      "The total count of patients in the records is 1338, of which 662 are women and 676 are men.\n",
      "Women make up 49.48% of patients in the records and men make up 50.52%.\n"
     ]
    }
   ],
   "source": [
    "#SEXES\n",
    "\n",
    "#count of men and women\n",
    "total_count = len(sexes)\n",
    "female_count = value_count_func(sexes)[\"female\"]\n",
    "male_count = value_count_func(sexes)[\"male\"]\n",
    "\n",
    "print(\"The total count of patients in the records is \" + str(total_count) + \n",
    "      \", of which \" + str(female_count) + \" are women and \" + str(male_count) + \" are men.\")\n",
    "\n",
    "#percentage of men and women\n",
    "women_percent = percentage(sexes, \"female\")\n",
    "men_percent = percentage(sexes, \"male\")\n",
    "\n",
    "print(\"Women make up \" + str(women_percent) + \"% of patients in the records and men make up \" \n",
    "      + str(men_percent) + \"%.\")"
   ]
  },
  {
   "cell_type": "code",
   "execution_count": 511,
   "metadata": {},
   "outputs": [
    {
     "name": "stdout",
     "output_type": "stream",
     "text": [
      "The average BMI of the patients in the records is 30.7.\n",
      "The lowest BMI in the records is 15.96.\n",
      "The highest BMI in the records is 53.13.\n",
      "The average BMI of women in the records is 30.4.\n",
      "The average BMI of men in the records is 30.9.\n"
     ]
    }
   ],
   "source": [
    "#BMI\n",
    "\n",
    "#average bmi\n",
    "average_bmi = average_calculator(bmis)\n",
    "\n",
    "print(\"The average BMI of the patients in the records is \" + str(average_bmi) + \".\")\n",
    "\n",
    "#highest and lowest bmi\n",
    "lowest_bmi = min_calculator(bmis)\n",
    "highest_bmi = max_calculator(bmis)\n",
    "\n",
    "print(\"The lowest BMI in the records is \" + str(lowest_bmi) + \".\")\n",
    "print(\"The highest BMI in the records is \" + str(highest_bmi) + \".\")\n",
    "\n",
    "#average bmi for women and men\n",
    "female_average_bmi = average_two_variables(sexes, bmis, \"female\")\n",
    "male_average_bmi = average_two_variables(sexes, bmis, \"male\")\n",
    "\n",
    "print(\"The average BMI of women in the records is \" + str(female_average_bmi) + \".\")\n",
    "print(\"The average BMI of men in the records is \" + str(male_average_bmi) + \".\")\n",
    "\n",
    "#average bmi for smokers and non-smokers\n",
    "smokers_average_bmi = average_two_variables(smoker, bmis, \"yes\")\n",
    "non_smokers_average_bmi = average_two_variables(smoker, bmis, \"no\")"
   ]
  },
  {
   "cell_type": "code",
   "execution_count": 512,
   "metadata": {},
   "outputs": [
    {
     "name": "stdout",
     "output_type": "stream",
     "text": [
      "The average number of children for patients in the records is 1.1.\n",
      "574 patients in the records (42.9%) have no children.\n",
      "324 patients in the records (24.22%) have 1 child.\n",
      "240 patients in the records (17.94%) have 2 children.\n",
      "157 patients in the records (11.73%) have 3 children.\n",
      "25 patients in the records (1.87%) have 4 children.\n",
      "18 patients in the records (1.35%) have 5 children.\n"
     ]
    }
   ],
   "source": [
    "#CHILDREN\n",
    "\n",
    "#average number of children\n",
    "average_number_of_children = average_calculator(children)\n",
    "\n",
    "print(\"The average number of children for patients in the records is \" + str(average_number_of_children) + \".\")\n",
    "\n",
    "#distribution of number of children\n",
    "no_children = value_count_func(children)[\"0\"]\n",
    "one_child = value_count_func(children)[\"1\"]\n",
    "two_children = value_count_func(children)[\"2\"]\n",
    "three_children = value_count_func(children)[\"3\"]\n",
    "four_children = value_count_func(children)[\"4\"]\n",
    "five_children = value_count_func(children)[\"5\"]\n",
    "\n",
    "no_children_percent = percentage(children, \"0\")\n",
    "one_child_percent = percentage(children, \"1\")\n",
    "two_children_percent = percentage(children, \"2\")\n",
    "three_children_percent = percentage(children, \"3\")\n",
    "four_children_percent = percentage(children, \"4\")\n",
    "five_children_percent = percentage(children, \"5\")\n",
    "\n",
    "print(str(no_children) + \" patients in the records (\" + str(no_children_percent) + \"%) have no children.\")\n",
    "print(str(one_child) + \" patients in the records (\" + str(one_child_percent) + \"%) have 1 child.\")\n",
    "print(str(two_children) + \" patients in the records (\" + str(two_children_percent) + \"%) have 2 children.\")\n",
    "print(str(three_children) + \" patients in the records (\" + str(three_children_percent) + \"%) have 3 children.\")\n",
    "print(str(four_children) + \" patients in the records (\" + str(four_children_percent) + \"%) have 4 children.\")\n",
    "print(str(five_children) + \" patients in the records (\" + str(five_children_percent) + \"%) have 5 children.\")"
   ]
  },
  {
   "cell_type": "code",
   "execution_count": 513,
   "metadata": {},
   "outputs": [
    {
     "name": "stdout",
     "output_type": "stream",
     "text": [
      "Of the 1338 patients in the records, 274 (20.48%) are smokers and 1064 (79.52%) are non-smokers.\n",
      "115 (17.37%) of females in the records are smokers.\n",
      "159 (23.52%) of males in the records are smokers.\n"
     ]
    }
   ],
   "source": [
    "#SMOKING\n",
    "\n",
    "#smokers vs non-smokers count\n",
    "total_count = len(smoker)\n",
    "smokers = value_count_func(smoker)[\"yes\"]\n",
    "non_smokers = value_count_func(smoker)[\"no\"]\n",
    "\n",
    "smoker_percent = percentage(smoker, \"yes\")\n",
    "non_smoker_percent = percentage(smoker, \"no\")\n",
    "\n",
    "print(\"Of the \" + str(total_count) + \" patients in the records, \" + str(smokers) + \" (\" + str(smoker_percent) + \n",
    "      \"%)\" + \" are smokers and \" + str(non_smokers) + \" (\" + str(non_smoker_percent) + \"%)\" + \" are non-smokers.\")\n",
    "\n",
    "#female and male smokers\n",
    "female_smokers = two_variables_count(sexes, smoker, \"female\", \"yes\")\n",
    "male_smokers = two_variables_count(sexes, smoker, \"male\", \"yes\")\n",
    "        \n",
    "female_smokers_percent = round((female_smokers / female_count) * 100, 2)\n",
    "male_smokers_percent = round((male_smokers / male_count) * 100, 2)\n",
    "        \n",
    "print(str(female_smokers) + \" (\" + str(female_smokers_percent) + \"%)\" + \" of females in the records are smokers.\")\n",
    "print(str(male_smokers) + \" (\" + str(male_smokers_percent) + \"%)\" + \" of males in the records are smokers.\")"
   ]
  },
  {
   "cell_type": "code",
   "execution_count": 514,
   "metadata": {},
   "outputs": [
    {
     "name": "stdout",
     "output_type": "stream",
     "text": [
      "325 patients in the records (24.29%) are from the southwest.\n",
      "364 patients in the records (27.2%) are from the southeast.\n",
      "325 patients in the records (24.29%) are from the northwest.\n",
      "324 patients in the records (24.22%) are from the northeast.\n"
     ]
    }
   ],
   "source": [
    "#REGIONS\n",
    "\n",
    "#count and percentage for regions\n",
    "southwest_count = value_count_func(regions)[\"southwest\"]\n",
    "southeast_count = value_count_func(regions)[\"southeast\"]\n",
    "northwest_count = value_count_func(regions)[\"northwest\"]\n",
    "northeast_count = value_count_func(regions)[\"northeast\"]\n",
    "\n",
    "southwest_percent = percentage(regions, \"southwest\")\n",
    "southeast_percent = percentage(regions, \"southeast\")\n",
    "northwest_percent = percentage(regions, \"northwest\")\n",
    "northeast_percent = percentage(regions, \"northeast\")\n",
    "        \n",
    "print(str(southwest_count) + \" patients in the records (\" + str(southwest_percent) + \"%) are from the southwest.\")\n",
    "print(str(southeast_count) + \" patients in the records (\" + str(southeast_percent) + \"%) are from the southeast.\")\n",
    "print(str(northwest_count) + \" patients in the records (\" + str(northwest_percent) + \"%) are from the northwest.\")\n",
    "print(str(northeast_count) + \" patients in the records (\" + str(northeast_percent) + \"%) are from the northeast.\")"
   ]
  },
  {
   "cell_type": "code",
   "execution_count": 515,
   "metadata": {},
   "outputs": [
    {
     "name": "stdout",
     "output_type": "stream",
     "text": [
      "The average insurance charges for patients in the records is 13270.4 dollars.\n",
      "The lowest insurance charges in the records is 1121.8739 dollars.\n",
      "The highest insurance charges in the records is 63770.42801 dollars.\n",
      "The average insurance charges for women in the records is 12569.6 dollars.\n",
      "The average insurance charges for men in the records is 13956.8 dollars.\n",
      "The average insurance charges for smokers is 32050.2 dollars.\n",
      "The average insurance charges for non-smokers is 8434.3 dollars.\n"
     ]
    }
   ],
   "source": [
    "#INSURANCE CHARGES\n",
    "\n",
    "#average charges\n",
    "average_charges = average_calculator(charges)\n",
    "\n",
    "print(\"The average insurance charges for patients in the records is \" + str(average_charges) + \" dollars.\")\n",
    "\n",
    "#lowest and highest\n",
    "lowest_charges = min_calculator(charges)\n",
    "highest_charges = max_calculator(charges)\n",
    "\n",
    "print(\"The lowest insurance charges in the records is \" + str(lowest_charges) + \" dollars.\")\n",
    "print(\"The highest insurance charges in the records is \" + str(highest_charges) + \" dollars.\")\n",
    "\n",
    "#average charges for women and men\n",
    "women_average_charges = average_two_variables(sexes, charges, 'female')\n",
    "men_average_charges = average_two_variables(sexes, charges, 'male')\n",
    "\n",
    "print(\"The average insurance charges for women in the records is \" + str(women_average_charges) + \" dollars.\")\n",
    "print(\"The average insurance charges for men in the records is \" + str(men_average_charges) + \" dollars.\")\n",
    "\n",
    "#average charges for smokers and non-smokers\n",
    "smokers_average_charges = average_two_variables(smoker, charges, 'yes')\n",
    "non_smokers_average_charges = average_two_variables(smoker, charges, 'no')\n",
    "\n",
    "print(\"The average insurance charges for smokers is \" + str(smokers_average_charges) + \" dollars.\")\n",
    "print(\"The average insurance charges for non-smokers is \" + str(non_smokers_average_charges) + \" dollars.\")"
   ]
  }
 ],
 "metadata": {
  "kernelspec": {
   "display_name": "Python 3",
   "language": "python",
   "name": "python3"
  },
  "language_info": {
   "codemirror_mode": {
    "name": "ipython",
    "version": 3
   },
   "file_extension": ".py",
   "mimetype": "text/x-python",
   "name": "python",
   "nbconvert_exporter": "python",
   "pygments_lexer": "ipython3",
   "version": "3.9.13"
  }
 },
 "nbformat": 4,
 "nbformat_minor": 4
}
